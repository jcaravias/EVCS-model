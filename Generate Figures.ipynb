{
 "cells": [
  {
   "cell_type": "code",
   "execution_count": 1,
   "id": "80bbacc5-55dc-4182-b93e-a00d0b2da893",
   "metadata": {},
   "outputs": [
    {
     "ename": "ModuleNotFoundError",
     "evalue": "No module named 'EVCS_agent_model'",
     "output_type": "error",
     "traceback": [
      "\u001b[0;31m---------------------------------------------------------------------------\u001b[0m",
      "\u001b[0;31mModuleNotFoundError\u001b[0m                       Traceback (most recent call last)",
      "Input \u001b[0;32mIn [1]\u001b[0m, in \u001b[0;36m<cell line: 1>\u001b[0;34m()\u001b[0m\n\u001b[0;32m----> 1\u001b[0m \u001b[38;5;28;01mfrom\u001b[39;00m \u001b[38;5;21;01mEVCS_agent_model\u001b[39;00m \u001b[38;5;28;01mimport\u001b[39;00m \u001b[38;5;241m*\u001b[39m\n",
      "\u001b[0;31mModuleNotFoundError\u001b[0m: No module named 'EVCS_agent_model'"
     ]
    }
   ],
   "source": [
    "from EVCS_agent_model import *"
   ]
  },
  {
   "cell_type": "code",
   "execution_count": 6,
   "id": "c7e63965-010e-424b-ba7e-113e2569aa49",
   "metadata": {},
   "outputs": [],
   "source": [
    "def run_model(charge_per_tick, discharge_factor, no_homes, no_chargers, no_work, no_stores, scenario, no_ticks):\n",
    "    \"\"\" runs the model for defined inputs and returns collected data as a pandas df\"\"\" \n",
    "    \n",
    "    if scenario == 1:\n",
    "        n = no_chargers - no_homes \n",
    "    if scenario == 2: \n",
    "        n = no_chargers\n",
    "        \n",
    "    no_agents = no_homes  #note that number of homes = number of EV agents (one agent per household)\n",
    "\n",
    "    MW = Model_World(no_homes = no_homes, no_work = no_work, no_stores = no_stores, no_ticks = no_ticks)\n",
    "    Model_Graph = MW.G \n",
    "    trip_lists = MW.get_trip_lists()\n",
    "    charger_placement = MW.get_charger_placement(scenario, int(n))\n",
    "    model = EVCSModel(no_agents=no_agents, no_chargers=no_chargers, charger_placement =charger_placement, no_ticks = no_ticks, G=Model_Graph, trip_lists = trip_lists)\n",
    "    \n",
    "    for _ in range(no_ticks):\n",
    "        model.step()\n",
    "    \n",
    "    data_collection = model.datacollector.get_model_vars_dataframe()\n",
    "\n",
    "    return data_collection"
   ]
  },
  {
   "cell_type": "code",
   "execution_count": 7,
   "id": "3b47df85-3361-479c-a42f-9e01d6fbc0d6",
   "metadata": {},
   "outputs": [],
   "source": [
    "def create_figures(data_collection): \n",
    "    \"\"\"plots data collection values against the ticks for a single model run \"\"\"\n",
    "    for value in data_collection.columns:\n",
    "        plt.figure(figsize=(8, 5))\n",
    "        plt.plot(data_collection[value])\n",
    "        plt.xlabel(\"Tick\")\n",
    "        plt.ylabel(str(value))\n",
    "        plt.title(str(value) + \" over time\")\n",
    "        plt.show()"
   ]
  },
  {
   "cell_type": "markdown",
   "id": "ead523c0-cde2-4cfa-8a04-20a2ad1a14db",
   "metadata": {},
   "source": [
    "#### Sensitivity Analysis: Run model repeatedly with varied inputs and plot affect"
   ]
  },
  {
   "cell_type": "code",
   "execution_count": 8,
   "id": "f76b49c8-e1a7-4d50-b3c1-3a95db5c54d7",
   "metadata": {},
   "outputs": [],
   "source": [
    "#Baseline model inputs\n",
    "charge_per_tick = 20\n",
    "discharge_factor = 30\n",
    "flag = False\n",
    "\n",
    "no_homes = 50\n",
    "no_work = 5\n",
    "no_stores = 10\n",
    "no_chargers = 55\n",
    "\n",
    "scenario = 1\n",
    "no_ticks = 336"
   ]
  },
  {
   "cell_type": "code",
   "execution_count": 9,
   "id": "eb929959-4cb5-4019-8c67-c8d48fbff31d",
   "metadata": {},
   "outputs": [],
   "source": [
    "def plot_sensitivity_analysis(item, df): \n",
    "    for value in df.columns:\n",
    "        plt.figure(figsize=(8, 5))\n",
    "        \n",
    "        scenario_1 = df[df[\"Scenario\"] == 1]\n",
    "        scenario_2 = df[df[\"Scenario\"] == 2]\n",
    "        \n",
    "        plt.plot(scenario_1[item],scenario_1[value], label = \"Scenario 1\")\n",
    "        plt.plot(scenario_2[item], scenario_2[value],label = \"Scenario 2\")\n",
    "        plt.legend()\n",
    "        plt.xlabel(item)\n",
    "        plt.ylabel(str(value))\n",
    "        plt.title(\"Impact of \" + item + \" on \" + str(value))\n",
    "        plt.show()      "
   ]
  },
  {
   "cell_type": "code",
   "execution_count": 10,
   "id": "e6428f79-3820-48ed-872e-6838b0f9d6d7",
   "metadata": {},
   "outputs": [
    {
     "ename": "NameError",
     "evalue": "name 'np' is not defined",
     "output_type": "error",
     "traceback": [
      "\u001b[0;31m---------------------------------------------------------------------------\u001b[0m",
      "\u001b[0;31mNameError\u001b[0m                                 Traceback (most recent call last)",
      "Input \u001b[0;32mIn [10]\u001b[0m, in \u001b[0;36m<cell line: 2>\u001b[0;34m()\u001b[0m\n\u001b[1;32m      1\u001b[0m \u001b[38;5;66;03m#Vary number of Chargers\u001b[39;00m\n\u001b[0;32m----> 2\u001b[0m number_chargers \u001b[38;5;241m=\u001b[39m \u001b[43mnp\u001b[49m\u001b[38;5;241m.\u001b[39mlinspace(\u001b[38;5;241m50\u001b[39m, \u001b[38;5;241m75\u001b[39m, \u001b[38;5;241m6\u001b[39m)\n\u001b[1;32m      3\u001b[0m no_homes \u001b[38;5;241m=\u001b[39m \u001b[38;5;241m50\u001b[39m\n\u001b[1;32m      5\u001b[0m columns \u001b[38;5;241m=\u001b[39m [\u001b[38;5;124m'\u001b[39m\u001b[38;5;124mAverage SOC\u001b[39m\u001b[38;5;124m'\u001b[39m, \u001b[38;5;124m'\u001b[39m\u001b[38;5;124mEV trips complete\u001b[39m\u001b[38;5;124m'\u001b[39m, \u001b[38;5;124m'\u001b[39m\u001b[38;5;124mAmount charged\u001b[39m\u001b[38;5;124m'\u001b[39m, \u001b[38;5;124m'\u001b[39m\u001b[38;5;124mInstances of insufficient charge\u001b[39m\u001b[38;5;124m'\u001b[39m, \u001b[38;5;124m'\u001b[39m\u001b[38;5;124mLength of queue\u001b[39m\u001b[38;5;124m'\u001b[39m]\n",
      "\u001b[0;31mNameError\u001b[0m: name 'np' is not defined"
     ]
    }
   ],
   "source": [
    "#Vary number of Chargers\n",
    "number_chargers = np.linspace(50, 75, 6)\n",
    "no_homes = 50\n",
    "\n",
    "columns = ['Average SOC', 'EV trips complete', 'Amount charged', 'Instances of insufficient charge', 'Length of queue']\n",
    "data = {item:[] for item in columns}  \n",
    "data[\"Number of Chargers\"] = []\n",
    "data[\"Scenario\"] = []\n",
    "                      \n",
    "for no_chargers in number_chargers: \n",
    "    for scenario in [1,2]:\n",
    "        data_collection = run_model(charge_per_tick, discharge_factor, no_homes, int(no_chargers), no_work, no_stores, scenario, no_ticks)\n",
    "        data[\"Scenario\"].append(scenario)   \n",
    "        data[\"Number of Chargers\"].append(no_chargers)\n",
    "        data[\"Average SOC\"].append(data_collection[\"Average SOC\"].mean())\n",
    "        data[\"EV trips complete\"].append(data_collection[\"EV trips complete\"].max())\n",
    "        data[\"Amount charged\"].append(data_collection[\"Amount charged\"].max())\n",
    "        data[\"Instances of insufficient charge\"].append(data_collection[\"Instances of insufficient charge\"].max())\n",
    "        data[\"Length of queue\"].append(data_collection[\"Length of queue\"].mean())\n",
    "    \n",
    "    \n",
    "df = pd.DataFrame(data)"
   ]
  },
  {
   "cell_type": "code",
   "execution_count": 11,
   "id": "05ecd636-0f30-4790-9e4c-5fa63f4cc357",
   "metadata": {},
   "outputs": [
    {
     "ename": "NameError",
     "evalue": "name 'df' is not defined",
     "output_type": "error",
     "traceback": [
      "\u001b[0;31m---------------------------------------------------------------------------\u001b[0m",
      "\u001b[0;31mNameError\u001b[0m                                 Traceback (most recent call last)",
      "Input \u001b[0;32mIn [11]\u001b[0m, in \u001b[0;36m<cell line: 1>\u001b[0;34m()\u001b[0m\n\u001b[0;32m----> 1\u001b[0m plot_sensitivity_analysis(\u001b[38;5;124m\"\u001b[39m\u001b[38;5;124mNumber of Chargers\u001b[39m\u001b[38;5;124m\"\u001b[39m, \u001b[43mdf\u001b[49m)\n",
      "\u001b[0;31mNameError\u001b[0m: name 'df' is not defined"
     ]
    }
   ],
   "source": [
    "plot_sensitivity_analysis(\"Number of Chargers\", df)"
   ]
  },
  {
   "cell_type": "code",
   "execution_count": null,
   "id": "04e09e5b-c9ba-4e28-a74b-086d077d44b2",
   "metadata": {},
   "outputs": [],
   "source": [
    "#Vary number of homes (agents)\n",
    "no_chargers = 100\n",
    "\n",
    "number_homes = np.linspace(10,100, 10) \n",
    "columns = ['Average SOC', 'EV trips complete', 'Amount charged', 'Instances of insufficient charge', 'Length of queue']\n",
    "data = {item:[] for item in columns}  \n",
    "data[\"Number of EV agents\"] = []\n",
    "data[\"Scenario\"] = []\n",
    "                      \n",
    "for no_homes in number_homes: \n",
    "    for scenario in [1,2]:\n",
    "        data_collection = run_model(charge_per_tick, discharge_factor, int(no_homes), no_chargers, no_work, no_stores, scenario, no_ticks)\n",
    "        data[\"Scenario\"].append(scenario)   \n",
    "        data[\"Number of EV agents\"].append(no_homes)\n",
    "        data[\"Average SOC\"].append(data_collection[\"Average SOC\"].mean())\n",
    "        data[\"EV trips complete\"].append(data_collection[\"EV trips complete\"].max())\n",
    "        data[\"Amount charged\"].append(data_collection[\"Amount charged\"].max())\n",
    "        data[\"Instances of insufficient charge\"].append(data_collection[\"Instances of insufficient charge\"].max())\n",
    "        data[\"Length of queue\"].append(data_collection[\"Length of queue\"].mean())\n",
    "    \n",
    "    \n",
    "df = pd.DataFrame(data)\n"
   ]
  },
  {
   "cell_type": "code",
   "execution_count": null,
   "id": "559826dc-8b87-44c2-a0f6-202b9ae52737",
   "metadata": {},
   "outputs": [],
   "source": [
    "plot_sensitivity_analysis(\"Number of EV agents\", df)"
   ]
  },
  {
   "cell_type": "code",
   "execution_count": null,
   "id": "ee2e9d00-99f7-4f5a-b4eb-501ec8bbc06a",
   "metadata": {},
   "outputs": [],
   "source": [
    "#Vary charging rate\n",
    "discharge_factor = 30\n",
    "\n",
    "no_homes = 50\n",
    "no_work = 5\n",
    "no_stores = 10\n",
    "no_chargers = 55\n",
    "\n",
    "scenario = 1\n",
    "no_ticks = 336\n",
    "\n",
    "charge_rate = np.linspace(5,35, 7) \n",
    "\n",
    "columns = ['Average SOC', 'EV trips complete', 'Amount charged', 'Instances of insufficient charge', 'Length of queue']\n",
    "data = {item:[] for item in columns}  \n",
    "data[\"Charge Rate\"] = []\n",
    "data[\"Scenario\"] = []\n",
    "                      \n",
    "for charge_per_tick in charge_rate: \n",
    "    for scenario in [1,2]:\n",
    "        data_collection = run_model(int(charge_per_tick), discharge_factor, no_homes, no_chargers, no_work, no_stores, scenario, no_ticks)\n",
    "        data[\"Scenario\"].append(scenario)   \n",
    "        data[\"Charge Rate\"].append(charge_per_tick)\n",
    "        data[\"Average SOC\"].append(data_collection[\"Average SOC\"].mean())\n",
    "        data[\"EV trips complete\"].append(data_collection[\"EV trips complete\"].max())\n",
    "        data[\"Amount charged\"].append(data_collection[\"Amount charged\"].max())\n",
    "        data[\"Instances of insufficient charge\"].append(data_collection[\"Instances of insufficient charge\"].max())\n",
    "        data[\"Length of queue\"].append(data_collection[\"Length of queue\"].mean())\n",
    "    \n",
    "    \n",
    "df = pd.DataFrame(data)\n"
   ]
  },
  {
   "cell_type": "code",
   "execution_count": null,
   "id": "4775a794-d697-433e-a74d-7e5cb801045f",
   "metadata": {},
   "outputs": [],
   "source": [
    "plot_sensitivity_analysis(\"Charge Rate\", df)"
   ]
  }
 ],
 "metadata": {
  "kernelspec": {
   "display_name": "Python 3 (ipykernel)",
   "language": "python",
   "name": "python3"
  },
  "language_info": {
   "codemirror_mode": {
    "name": "ipython",
    "version": 3
   },
   "file_extension": ".py",
   "mimetype": "text/x-python",
   "name": "python",
   "nbconvert_exporter": "python",
   "pygments_lexer": "ipython3",
   "version": "3.10.5"
  }
 },
 "nbformat": 4,
 "nbformat_minor": 5
}
